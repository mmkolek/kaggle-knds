{
 "cells": [
  {
   "cell_type": "code",
   "execution_count": 8,
   "metadata": {},
   "outputs": [],
   "source": [
    "import numpy as np\n",
    "import pandas as pd\n",
    "import csv"
   ]
  },
  {
   "cell_type": "code",
   "execution_count": 9,
   "metadata": {},
   "outputs": [],
   "source": [
    "lemmatized_train_df = pd.read_csv(\"data/lemmatized/train.csv\")\n",
    "lemmatized_test_df = pd.read_csv(\"data/lemmatized/test.csv\")\n",
    "lem_tweets = lemmatized_train_df.text"
   ]
  },
  {
   "cell_type": "code",
   "execution_count": 10,
   "metadata": {},
   "outputs": [],
   "source": [
    "def moja_funkcja(arg1: str, arg2: int) -> list:\n",
    "    \"\"\"\n",
    "    Funkcja zwraca listę z arg1 gdzie jest ich arg2 razy.\n",
    "\n",
    "    Input:\n",
    "    * arg1: str - slowo\n",
    "    * arg2: int - ilosc wystapien\n",
    "\n",
    "    Output:\n",
    "    * lista: list - lista wynikowa\n",
    "    \"\"\"\n",
    "    return [arg1 for _ in range(arg2)]\n",
    "    "
   ]
  },
  {
   "cell_type": "code",
   "execution_count": 16,
   "metadata": {},
   "outputs": [],
   "source": [
    "# creating bag of words dictionary\n",
    "bow = dict()\n",
    "keyd = 0\n",
    "for tweet in lem_tweets:\n",
    "    for word in tweet.split(\" \"):\n",
    "        word = word.lower()\n",
    "        if word in bow or word == \"\":\n",
    "            continue\n",
    "        \n",
    "        bow[word] = keyd\n",
    "        keyd += 1 \n",
    "\n",
    "new_bow = dict([(value, key) for key, value in bow.items()])"
   ]
  },
  {
   "cell_type": "code",
   "execution_count": 39,
   "metadata": {},
   "outputs": [],
   "source": [
    "# 0 and 1 array of tweets\n",
    "tweet_binary = np.zeros((len(lem_tweets), len(new_bow)))\n",
    "\n",
    "for i in range(len(tweet_binary)):   \n",
    "    for word in lem_tweets[i].split(\" \"):\n",
    "        word = word.lower()\n",
    "        if word == \"\":\n",
    "            continue\n",
    "        tweet_binary[i][bow[word]] = 1"
   ]
  },
  {
   "cell_type": "code",
   "execution_count": 42,
   "metadata": {},
   "outputs": [
    {
     "name": "stdout",
     "output_type": "stream",
     "text": [
      "Stored 'tweet_binary' (ndarray)\n"
     ]
    }
   ],
   "source": [
    "%store tweet_binary\n"
   ]
  }
 ],
 "metadata": {
  "interpreter": {
   "hash": "9bdce408c87f4eb668e1917b7feebb20d95ee31fab34e06aa8103d269ca5db77"
  },
  "kernelspec": {
   "display_name": "Python 3.8.8 64-bit ('base': conda)",
   "language": "python",
   "name": "python3"
  },
  "language_info": {
   "codemirror_mode": {
    "name": "ipython",
    "version": 3
   },
   "file_extension": ".py",
   "mimetype": "text/x-python",
   "name": "python",
   "nbconvert_exporter": "python",
   "pygments_lexer": "ipython3",
   "version": "3.8.8"
  },
  "orig_nbformat": 4
 },
 "nbformat": 4,
 "nbformat_minor": 2
}
