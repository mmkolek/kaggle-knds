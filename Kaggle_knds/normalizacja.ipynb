{
 "cells": [
  {
   "cell_type": "code",
   "execution_count": 46,
   "metadata": {},
   "outputs": [],
   "source": [
    "from sklearn.preprocessing import StandardScaler\n",
    "from sklearn.neural_network import MLPClassifier\n",
    "from sklearn.metrics import classification_report\n",
    "import numpy as np\n",
    "import pandas as pd\n",
    "import csv"
   ]
  },
  {
   "cell_type": "code",
   "execution_count": 47,
   "metadata": {},
   "outputs": [],
   "source": [
    "%store -r tweet_binary"
   ]
  },
  {
   "cell_type": "code",
   "execution_count": 48,
   "metadata": {},
   "outputs": [],
   "source": [
    "lem_tweets = pd.read_csv(\"data/lemmatized/train.csv\")\n",
    "hate_arr = lem_tweets.target\n"
   ]
  },
  {
   "cell_type": "code",
   "execution_count": 49,
   "metadata": {},
   "outputs": [
    {
     "data": {
      "text/plain": [
       "(6000,)"
      ]
     },
     "execution_count": 49,
     "metadata": {},
     "output_type": "execute_result"
    }
   ],
   "source": [
    "train_tweet, check_tweet = np.array_split(tweet_binary, [6000])\n",
    "train_hate, check_hate = np.array_split(hate_arr, [6000])\n",
    "train_hate.shape"
   ]
  },
  {
   "cell_type": "code",
   "execution_count": 50,
   "metadata": {},
   "outputs": [],
   "source": [
    "scaler = StandardScaler()\n",
    "scaler.fit(train_tweet)\n",
    "normalized = scaler.transform(train_tweet)"
   ]
  },
  {
   "cell_type": "code",
   "execution_count": 52,
   "metadata": {},
   "outputs": [
    {
     "name": "stdout",
     "output_type": "stream",
     "text": [
      "Iteration 1, loss = 0.59858506\n",
      "Iteration 2, loss = 0.39307661\n",
      "Iteration 3, loss = 0.26628529\n",
      "Iteration 4, loss = 0.18939272\n",
      "Iteration 5, loss = 0.14006584\n"
     ]
    },
    {
     "name": "stderr",
     "output_type": "stream",
     "text": [
      "C:\\Users\\macie\\anaconda3\\lib\\site-packages\\sklearn\\neural_network\\_multilayer_perceptron.py:614: ConvergenceWarning: Stochastic Optimizer: Maximum iterations (5) reached and the optimization hasn't converged yet.\n",
      "  warnings.warn(\n"
     ]
    },
    {
     "data": {
      "text/plain": [
       "MLPClassifier(hidden_layer_sizes=100, max_iter=5, verbose=True)"
      ]
     },
     "execution_count": 52,
     "metadata": {},
     "output_type": "execute_result"
    }
   ],
   "source": [
    "neural_network = MLPClassifier(hidden_layer_sizes=100, max_iter = 5, verbose=True)\n",
    "\n",
    "neural_network.fit(train_tweet,train_hate)"
   ]
  },
  {
   "cell_type": "code",
   "execution_count": 53,
   "metadata": {},
   "outputs": [],
   "source": [
    "prediction = neural_network.predict_proba(train_tweet)[:,1]"
   ]
  },
  {
   "cell_type": "code",
   "execution_count": 54,
   "metadata": {},
   "outputs": [
    {
     "name": "stdout",
     "output_type": "stream",
     "text": [
      "              precision    recall  f1-score   support\n",
      "\n",
      "           0       0.97      0.99      0.98      3483\n",
      "           1       0.99      0.95      0.97      2517\n",
      "\n",
      "    accuracy                           0.97      6000\n",
      "   macro avg       0.98      0.97      0.97      6000\n",
      "weighted avg       0.97      0.97      0.97      6000\n",
      "\n"
     ]
    }
   ],
   "source": [
    "print(classification_report(train_hate, (prediction > 0.5).astype(int)))  "
   ]
  },
  {
   "cell_type": "code",
   "execution_count": 57,
   "metadata": {},
   "outputs": [
    {
     "name": "stdout",
     "output_type": "stream",
     "text": [
      "              precision    recall  f1-score   support\n",
      "\n",
      "           0       0.79      0.82      0.81       859\n",
      "           1       0.79      0.75      0.77       754\n",
      "\n",
      "    accuracy                           0.79      1613\n",
      "   macro avg       0.79      0.79      0.79      1613\n",
      "weighted avg       0.79      0.79      0.79      1613\n",
      "\n"
     ]
    }
   ],
   "source": [
    "prediction2 = neural_network.predict_proba(check_tweet)[:,1]\n",
    "print(classification_report(check_hate, (prediction2 > 0.5).astype(int)))  "
   ]
  }
 ],
 "metadata": {
  "interpreter": {
   "hash": "9bdce408c87f4eb668e1917b7feebb20d95ee31fab34e06aa8103d269ca5db77"
  },
  "kernelspec": {
   "display_name": "Python 3.8.8 64-bit ('base': conda)",
   "language": "python",
   "name": "python3"
  },
  "language_info": {
   "codemirror_mode": {
    "name": "ipython",
    "version": 3
   },
   "file_extension": ".py",
   "mimetype": "text/x-python",
   "name": "python",
   "nbconvert_exporter": "python",
   "pygments_lexer": "ipython3",
   "version": "3.8.8"
  },
  "orig_nbformat": 4
 },
 "nbformat": 4,
 "nbformat_minor": 2
}
