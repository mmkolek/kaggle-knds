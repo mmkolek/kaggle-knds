{
 "cells": [
  {
   "cell_type": "code",
   "execution_count": 8,
   "source": [
    "import nltk \n",
    "#nltk.download('wordnet')\n",
    "import numpy as np\n",
    "import pandas as pd"
   ],
   "outputs": [],
   "metadata": {}
  },
  {
   "cell_type": "code",
   "execution_count": 9,
   "source": [
    "stemmer = nltk.stem.SnowballStemmer(\"english\")"
   ],
   "outputs": [],
   "metadata": {}
  },
  {
   "cell_type": "code",
   "execution_count": 10,
   "source": [
    "test_df = pd.read_csv(\"data/raw/test.csv\")\n",
    "train_df = pd.read_csv(\"data/raw/train.csv\")"
   ],
   "outputs": [],
   "metadata": {}
  },
  {
   "cell_type": "code",
   "execution_count": 18,
   "source": [
    "# stemming test_df\n",
    "texts = test_df.text\n",
    "new_texts = []\n",
    "for text in texts:\n",
    "    new_text = \"\"\n",
    "    text = nltk.tokenize.word_tokenize(text)\n",
    "    for word in text:\n",
    "        # if word in skippable:\n",
    "        #     continue\n",
    "        new_text += \" \" + stemmer.stem(word)\n",
    "    new_texts.append(new_text)\n",
    "\n",
    "stemmed_test_df = test_df.copy()\n",
    "stemmed_test_df.text = pd.Series(new_texts)"
   ],
   "outputs": [],
   "metadata": {}
  },
  {
   "cell_type": "code",
   "execution_count": 19,
   "source": [
    "# stemming train_df\n",
    "texts = train_df.text\n",
    "new_texts = []\n",
    "for text in texts:\n",
    "    new_text = \"\"\n",
    "    text = nltk.tokenize.word_tokenize(text)\n",
    "    for word in text:\n",
    "        # if word in skippable:\n",
    "        #     continue\n",
    "        new_text += \" \" + stemmer.stem(word)\n",
    "    new_texts.append(new_text)\n",
    "\n",
    "stemmed_train_df = train_df.copy()\n",
    "stemmed_train_df.text = pd.Series(new_texts)"
   ],
   "outputs": [],
   "metadata": {}
  },
  {
   "cell_type": "code",
   "execution_count": 21,
   "source": [
    "stemmed_test_df.to_csv(\"data/stemmed/test.csv\",)\n",
    "stemmed_train_df.to_csv(\"data/stemmed/train.csv\")"
   ],
   "outputs": [],
   "metadata": {}
  }
 ],
 "metadata": {
  "orig_nbformat": 4,
  "language_info": {
   "name": "python",
   "version": "3.8.11",
   "mimetype": "text/x-python",
   "codemirror_mode": {
    "name": "ipython",
    "version": 3
   },
   "pygments_lexer": "ipython3",
   "nbconvert_exporter": "python",
   "file_extension": ".py"
  },
  "kernelspec": {
   "name": "python3",
   "display_name": "Python 3.8.11 64-bit ('base': conda)"
  },
  "interpreter": {
   "hash": "9597f5df513f08ab95377af450239c3d00ace8c5aaa91fde6a17175f942505fd"
  }
 },
 "nbformat": 4,
 "nbformat_minor": 2
}